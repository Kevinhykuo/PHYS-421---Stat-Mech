{
 "cells": [
  {
   "cell_type": "markdown",
   "metadata": {},
   "source": [
    "# Assignment 6"
   ]
  },
  {
   "cell_type": "code",
   "execution_count": 18,
   "metadata": {},
   "outputs": [],
   "source": [
    "import numpy as np\n",
    "import sympy as sym\n",
    "import matplotlib as mp\n",
    "import matplotlib.pyplot as plt\n",
    "\n",
    "from sympy.physics.mechanics import *\n",
    "from IPython.display import Math, display\n",
    "from scipy.constants import k\n",
    "\n",
    "# %matplotlib inline\n",
    "# %config InlineBackend.figure_format = 'pdf'"
   ]
  },
  {
   "cell_type": "markdown",
   "metadata": {},
   "source": [
    "## Weather in the land of Oz "
   ]
  },
  {
   "cell_type": "markdown",
   "metadata": {},
   "source": [
    "> Oz nevers have two nice days in a row\n",
    "\n",
    "> If it is a nice day, there will be a 50% chance of rain or 50% chance of snow the next day\n",
    "\n",
    "> If it is a snow or rain day, there is a 50% chance of having the same, and 25% for the other weather\n",
    "\n",
    "We can model this using a stochastic matrix (P):\n",
    "\n",
    "$$P = \\frac{1}{4} \\begin{bmatrix}\n",
    "    0 & 2 & 2 \\\\\n",
    "    1 & 2 & 1 \\\\\n",
    "    1 & 1 & 2 \n",
    "\\end{bmatrix}^{}$$\n"
   ]
  },
  {
   "cell_type": "code",
   "execution_count": 2,
   "metadata": {},
   "outputs": [],
   "source": [
    "C = sym.Rational(1, 4) # Constant factored out from our stochastic matrix\n",
    "P = sym.Matrix([[0, 2, 2], [1, 2, 1], [1, 1, 2]]) # Matrix of possibilities (our stochastic matrix)\n",
    "x1 = sym.Matrix([1, 0, 0]).T # Vector for good day\n",
    "x2 = sym.Matrix([0, 1, 0]).T # Vector for rainy day\n",
    "x3 = sym.Matrix([0, 0, 1]).T # Vector for snow day\n",
    "\n",
    "def round_expr(expr, num_digits):\n",
    "    return expr.xreplace({n : round(n, num_digits) for n in expr.atoms(sym.Number)})\n",
    "\n",
    "# Returns the powers of the stochastic matrix\n",
    "def Prob(n, A=C, B=P):\n",
    "    a = C ** n\n",
    "    b = B ** n \n",
    "    c = a*b\n",
    "    d1 = Math(r'P^{0} ='.format({n}) + sym.latex(a) + sym.latex(b))\n",
    "    d2 = Math(r'P^{0} ='.format({n}) + sym.latex(c))\n",
    "    d3 = Math(r'P^{0} ='.format({n}) + sym.latex(round_expr(c, 4)))\n",
    "    return d1, d2, d3\n",
    "\n",
    "# Returns the possibilities of weather on a given day \n",
    "def Loc_prob(n, X, A=C, B=P):\n",
    "    a = C ** n\n",
    "    b = X * B ** n \n",
    "    c = a*b\n",
    "    d1 = Math(r'x_{0} ='.format({n}) + sym.latex(a) + sym.latex(b))\n",
    "    d2 = Math(r'x_{0} ='.format({n}) + sym.latex(c))\n",
    "    d3 = Math(r'x_{0} ='.format({n}) + sym.latex(round_expr(c, 4)))\n",
    "    return d1, d2, d3"
   ]
  },
  {
   "cell_type": "markdown",
   "metadata": {},
   "source": [
    "### a) Weather two days after a good day\n",
    "\n",
    "To find the possibility of a nice day two days after a nice day, we will multiply a vector representing a nice day ($\\vec{x}$) by $P^2$: \n",
    "\n",
    "$$\\vec{x}(t=2) = \\vec{x}(t=0) P^2$$\n",
    "\n",
    "$$\\vec{x}(t=0) = [1 \\ \\  0 \\ \\ 0]$$"
   ]
  },
  {
   "cell_type": "code",
   "execution_count": 3,
   "metadata": {},
   "outputs": [
    {
     "data": {
      "text/latex": [
       "$\\displaystyle x_{2} =\\left[\\begin{matrix}\\frac{1}{4} & \\frac{3}{8} & \\frac{3}{8}\\end{matrix}\\right]$"
      ],
      "text/plain": [
       "<IPython.core.display.Math object>"
      ]
     },
     "execution_count": 3,
     "metadata": {},
     "output_type": "execute_result"
    }
   ],
   "source": [
    "Loc_prob(2, x1, C, P)[1]"
   ]
  },
  {
   "cell_type": "markdown",
   "metadata": {},
   "source": [
    "We can see that if the first day was Monday, and it happened to be a nice day, the chances of a nice day on Wendsday is $25\\%$."
   ]
  },
  {
   "cell_type": "markdown",
   "metadata": {},
   "source": [
    "### b) Fraction of days that rain in Oz\n",
    "\n",
    "To evaluate the probability distribution of the weather, hence the fraction of the days of a certain weather occuring, we take the limit of $P^n$ as $n \\rightarrow \\infty$:\n",
    "\n",
    "$$\\lim_{x \\rightarrow \\infty} P^n = A D^n A^{-1}$$\n",
    "\n",
    "Where: \n",
    "\n",
    "> $A$ is the matrix consisting of the eigenvectors of $P$\n",
    "\n",
    "> $D$ is a diagonlized matrix of $A$ ($D = A^{-1} P A$)"
   ]
  },
  {
   "cell_type": "code",
   "execution_count": 4,
   "metadata": {},
   "outputs": [
    {
     "data": {
      "text/latex": [
       "$\\displaystyle A =\\left[\\begin{matrix}-4 & 0 & 1\\\\1 & -1 & 1\\\\1 & 1 & 1\\end{matrix}\\right]$"
      ],
      "text/plain": [
       "<IPython.core.display.Math object>"
      ]
     },
     "metadata": {},
     "output_type": "display_data"
    },
    {
     "data": {
      "text/latex": [
       "$\\displaystyle D =\\left[\\begin{matrix}- \\frac{1}{4} & 0 & 0\\\\0 & \\frac{1}{4} & 0\\\\0 & 0 & 1\\end{matrix}\\right]$"
      ],
      "text/plain": [
       "<IPython.core.display.Math object>"
      ]
     },
     "metadata": {},
     "output_type": "display_data"
    }
   ],
   "source": [
    "P0 = C*P\n",
    "A, D = P0.diagonalize() # Find eigenvector matrix and diagonalize P\n",
    "display(Math(r'A =' + sym.latex(A)))\n",
    "display(Math(r'D =' + sym.latex(D)))"
   ]
  },
  {
   "cell_type": "markdown",
   "metadata": {},
   "source": [
    "We can see that:\n",
    "$$\\lim_{n \\rightarrow \\infty} D^n =\n",
    "\\begin{bmatrix}\n",
    "    0 & 0 & 0 \\\\\n",
    "    0 & 0 & 0 \\\\\n",
    "    0 & 0 & 1\n",
    "\\end{bmatrix}$$\n",
    "\n",
    "$$\\therefore \\lim_{n \\rightarrow \\infty} P^n = A^{-1}\\begin{bmatrix}\n",
    "    0 & 0 & 0 \\\\\n",
    "    0 & 0 & 0 \\\\\n",
    "    0 & 0 & 1\n",
    "\\end{bmatrix} A$$"
   ]
  },
  {
   "cell_type": "code",
   "execution_count": 5,
   "metadata": {},
   "outputs": [
    {
     "data": {
      "text/latex": [
       "$\\displaystyle \\lim_{n \\rightarrow \\infty} P^n =\\left[\\begin{matrix}\\frac{1}{5} & \\frac{2}{5} & \\frac{2}{5}\\\\\\frac{1}{5} & \\frac{2}{5} & \\frac{2}{5}\\\\\\frac{1}{5} & \\frac{2}{5} & \\frac{2}{5}\\end{matrix}\\right]$"
      ],
      "text/plain": [
       "<IPython.core.display.Math object>"
      ]
     },
     "metadata": {},
     "output_type": "display_data"
    }
   ],
   "source": [
    "Dn = sym.Matrix([[0, 0, 0], [0, 0, 0], [0, 0, 1]])\n",
    "Pn = A * Dn * A**(-1)\n",
    "display(Math(r'\\lim_{n \\rightarrow \\infty} P^n =' + sym.latex(Pn)))"
   ]
  },
  {
   "cell_type": "markdown",
   "metadata": {},
   "source": [
    "As we can see, Oz rains $\\frac{2}{5}$ of the days."
   ]
  },
  {
   "cell_type": "markdown",
   "metadata": {},
   "source": [
    "\\newpage\n",
    "## Ising model in one dimension \n",
    "\n",
    "$$E = - J \\sum_{n=1}^N \\sigma_n \\sigma_{n+1}$$\n",
    "\n",
    "Where $\\sigma$ can be either $+1$ or $-1$."
   ]
  },
  {
   "cell_type": "markdown",
   "metadata": {},
   "source": [
    "### a) The partition function $Z$\n",
    "\n",
    "$$Z = \\sum_\\mu e^{-\\beta E_\\mu} = \\sum_{\\sigma_i} e^{\\beta J \\sum_{n=1}^N \\sigma_n \\sigma_{n+1}}$$\n",
    "\n",
    "Let's define a transfer matrix $T$: \n",
    "\n",
    "$$T = \\begin{bmatrix}\n",
    "    e^{\\beta J} & e^{-\\beta J} \\\\\n",
    "    e^{-\\beta J} & e^{\\beta J}\n",
    "\\end{bmatrix}$$\n",
    "\n",
    "> Where the indicies correspond to $\\sigma_n$ and $\\sigma_{n+1}$\n",
    "\n",
    "The partition fuction then becomes: \n",
    "\n",
    "$$\\begin{align}\n",
    "Z &= \\sum_{\\sigma_i} \\prod_{n=1}^N \\vec{\\sigma}_n T \\vec{\\sigma}_{n+1} \\\\\n",
    "    &= \\sum_{\\sigma_i} \\vec{\\sigma}_1 T \\vec{\\sigma}_{n+1} \\\\\n",
    "    &= \\sum_{\\sigma_1} \\vec{\\sigma}_1 T \\vec{\\sigma}_{1} \\\\ \n",
    "    &= \\text{Tr}(T^N) \\\\\n",
    "    &= \\text{Tr}(A D^N A)\\\\\n",
    "    &= \\text{Tr}(D^N) \\\\\n",
    "    &= \\sum_i \\lambda_i^N\n",
    "    \\end{align}$$\n",
    "\n",
    "Where: \n",
    "\n",
    "> $D$ is the diagonalized matrix of $T$\n",
    "\n",
    "> $A$ is the matrix containing the eigenvertors of $T$\n",
    "\n",
    "> $\\lambda_i$ are the eigen values of T"
   ]
  },
  {
   "cell_type": "code",
   "execution_count": 6,
   "metadata": {},
   "outputs": [],
   "source": [
    "# Define the matrix T\n",
    "bet, J, N, k = sym.symbols('beta J N k')\n",
    "T = sym.Matrix([[sym.exp(bet * J), sym.exp(-bet*J)], [sym.exp(-bet*J), sym.exp(bet * J)]])"
   ]
  },
  {
   "cell_type": "code",
   "execution_count": 7,
   "metadata": {},
   "outputs": [
    {
     "data": {
      "text/latex": [
       "$\\displaystyle D =\\left[\\begin{matrix}- \\sqrt{e^{- 2 J \\beta}} + e^{J \\beta} & 0\\\\0 & \\sqrt{e^{- 2 J \\beta}} + e^{J \\beta}\\end{matrix}\\right]$"
      ],
      "text/plain": [
       "<IPython.core.display.Math object>"
      ]
     },
     "metadata": {},
     "output_type": "display_data"
    }
   ],
   "source": [
    "# Find the eigenvalues and eigenvectors \n",
    "T_evec, T_eval = T.diagonalize()\n",
    "display(Math(r'D =' + sym.latex(T_eval)))"
   ]
  },
  {
   "cell_type": "markdown",
   "metadata": {},
   "source": [
    "Now that we have the eigenvalues, we can see that the partition function: \n",
    "\n",
    "$$\\begin{align}\n",
    "Z &= \\left(-\\sqrt{e^{-2J\\beta}} + e^{J\\beta} \\right)^N + \\left(\\sqrt{e^{-2J\\beta}} + e^{J\\beta} \\right)^N \\\\\n",
    "  &= \\left(-e^{-J\\beta} + e^{J\\beta} \\right)^N + \\left( e^{-J\\beta} + e^{J\\beta} \\right)^N \\\\\n",
    "  &= 2 \\cosh^N(J\\beta) + 2 \\sinh^N(J\\beta)\n",
    "  \\end{align}$$"
   ]
  },
  {
   "cell_type": "markdown",
   "metadata": {},
   "source": [
    "### b) Graph of the heat capacity ($C_V$) as a function of temperature ($T$) for large $N$\n",
    "\n",
    "$$C_V = \\left(\\frac{\\partial U}{\\partial T} \\right)_V = -k \\beta^2 \\left(\\frac{\\partial^2 \\ln(Z)}{\\partial \\beta^2}\\right)_V$$\n",
    "\n",
    "\n",
    "$$\\ln(Z) = \\ln \\left[ 2 \\cosh^N(J\\beta) + 2 \\sinh^N(J\\beta) \\right]$$"
   ]
  },
  {
   "cell_type": "code",
   "execution_count": 8,
   "metadata": {},
   "outputs": [],
   "source": [
    "Z = 2*sym.cosh(J*bet)**N + 2*sym.sinh(J*bet)**N\n",
    "ln_Z = sym.ln(Z)"
   ]
  },
  {
   "cell_type": "code",
   "execution_count": 9,
   "metadata": {},
   "outputs": [
    {
     "data": {
      "text/latex": [
       "$\\displaystyle \\frac{\\partial^2 \\ln(Z)}{\\partial \\beta^2} =- \\frac{J^{2} N \\left(- N \\sinh^{N}{\\left (J \\beta \\right )} \\cosh^{N - 2}{\\left (J \\beta \\right )} + \\sinh^{2 N}{\\left (J \\beta \\right )} + \\sinh^{N}{\\left (J \\beta \\right )} \\cosh^{N - 2}{\\left (J \\beta \\right )} - \\cosh^{2 N}{\\left (J \\beta \\right )} + \\cosh^{2 N - 2}{\\left (J \\beta \\right )}\\right)}{\\left(\\sinh^{N}{\\left (J \\beta \\right )} + \\cosh^{N}{\\left (J \\beta \\right )}\\right)^{2} \\sinh^{2}{\\left (J \\beta \\right )}}$"
      ],
      "text/plain": [
       "<IPython.core.display.Math object>"
      ]
     },
     "metadata": {},
     "output_type": "display_data"
    }
   ],
   "source": [
    "dd_ln_Z = sym.diff(ln_Z, bet, 2).simplify()\n",
    "display(Math(r'\\frac{\\partial^2 \\ln(Z)}{\\partial \\beta^2} =' + sym.latex(dd_ln_Z)))"
   ]
  },
  {
   "cell_type": "markdown",
   "metadata": {},
   "source": [
    "$$\\frac{\\partial^2 \\ln(Z)}{\\partial \\beta^2} = J^2 N \\frac{(N-1)\\sinh^N(J\\beta)\\cosh^{N-2}(JB) + \\cosh^{2(N-1)}(J\\beta) - 1}{\\sinh^2(J\\beta)\\left[\\sinh^N(J\\beta) + \\cosh^N(J\\beta)\\right]^2}$$\n",
    "\n",
    "$$\\therefore C_V = -k \\beta^2 J^2 N \\frac{(N-1)\\sinh^N(J\\beta)\\cosh^{N-2}(JB) + \\cosh^{2(N-1)}(J\\beta) - 1}{\\sinh^2(J\\beta)\\left[\\sinh^N(J\\beta) + \\cosh^N(J\\beta)\\right]^2}$$"
   ]
  },
  {
   "cell_type": "code",
   "execution_count": 30,
   "metadata": {},
   "outputs": [],
   "source": [
    "def beta(T, K):\n",
    "    b = 1/(K*T)\n",
    "    return b\n",
    "\n",
    "def Cv(T, K=k, J=1, N=100):\n",
    "    SH = np.sinh(J*beta(T, K))\n",
    "    CH = np.cosh(J*beta(T, K))\n",
    "    coeff = -K * beta(T, K)**2 * J**2 * N            \n",
    "    numer = (N-1) * SH**N * CH**(N-2) + CH**(2*N-2) - 1\n",
    "    denum = SH**2 * (SH**N + CH**N)**2\n",
    "    return -coeff * numer/denum"
   ]
  },
  {
   "cell_type": "code",
   "execution_count": 50,
   "metadata": {},
   "outputs": [
    {
     "data": {
      "image/png": "[encoded data removed]",
      "text/plain": [
       "<Figure size 1440x576 with 1 Axes>"
      ]
     },
     "metadata": {
      "needs_background": "light"
     },
     "output_type": "display_data"
    }
   ],
   "source": [
    "T = np.arange(0.5, 50, 0.001)\n",
    "\n",
    "plt.figure(figsize=(20, 8))\n",
    "plt.plot(T, Cv(T, K=1, N=100))\n",
    "plt.title(r'Heat capacity ($C_V$) as a function of temperature ($T$)', fontsize=16)\n",
    "plt.xlabel('Temperature (T) [K]', fontsize=14)\n",
    "plt.ylabel(r'$\\frac{C_V}{k\\beta^2 J^2}$', rotation=0, fontsize=20)\n",
    "plt.show()"
   ]
  },
  {
   "cell_type": "code",
   "execution_count": null,
   "metadata": {},
   "outputs": [],
   "source": []
  }
 ],
 "metadata": {
  "kernelspec": {
   "display_name": "Python 3",
   "language": "python",
   "name": "python3"
  },
  "language_info": {
   "codemirror_mode": {
    "name": "ipython",
    "version": 3
   },
   "file_extension": ".py",
   "mimetype": "text/x-python",
   "name": "python",
   "nbconvert_exporter": "python",
   "pygments_lexer": "ipython3",
   "version": "3.7.2"
  }
 },
 "nbformat": 4,
 "nbformat_minor": 2
}
