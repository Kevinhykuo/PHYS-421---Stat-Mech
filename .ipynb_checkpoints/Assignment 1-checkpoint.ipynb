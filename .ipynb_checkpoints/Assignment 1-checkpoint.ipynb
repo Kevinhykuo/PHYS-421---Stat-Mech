{
 "cells": [
  {
   "cell_type": "markdown",
   "metadata": {},
   "source": [
    "# Assignment 1"
   ]
  },
  {
   "cell_type": "markdown",
   "metadata": {},
   "source": [
    "## Plot the binomial distribution"
   ]
  },
  {
   "cell_type": "code",
   "execution_count": null,
   "metadata": {},
   "outputs": [],
   "source": [
    "import numpy as np\n",
    "import matplotlib as mp\n",
    "import matplotlib.pyplot as plt\n",
    "import seaborn as sns"
   ]
  },
  {
   "cell_type": "code",
   "execution_count": null,
   "metadata": {},
   "outputs": [],
   "source": [
    "p = 0.5     # Possibility of a right step\n",
    "q = 0.5     # Possibility of a left step\n",
    "N = 5       # Number of steps\n",
    "R = 10**3   # Rounds of walking "
   ]
  },
  {
   "cell_type": "code",
   "execution_count": null,
   "metadata": {},
   "outputs": [],
   "source": [
    "def ave(p=0.5, q=0.5, N=5):\n",
    "    A = N * (p-q)\n",
    "    return A\n",
    "\n",
    "def var(p=0.5, q=0.5, N=5):\n",
    "    V = 4*N * p * q\n",
    "    return V"
   ]
  },
  {
   "cell_type": "code",
   "execution_count": null,
   "metadata": {},
   "outputs": [],
   "source": [
    "def plot_hist(p=0.5, q=0.5, N=5, xlabel='Distance'):\n",
    "    A0 = np.random.randint(0, 2, size=(N, R))\n",
    "    A1 = A0 * 2 - 1\n",
    "    A2 = np.sum(A1, axis=0)\n",
    "    H = sns.distplot(A2, norm_hist=True, kde=False, axlabel=\"Distance\")"
   ]
  },
  {
   "cell_type": "code",
   "execution_count": null,
   "metadata": {},
   "outputs": [],
   "source": [
    "plot_hist()"
   ]
  },
  {
   "cell_type": "code",
   "execution_count": null,
   "metadata": {},
   "outputs": [],
   "source": []
  }
 ],
 "metadata": {
  "kernelspec": {
   "display_name": "Python 3",
   "language": "python",
   "name": "python3"
  },
  "language_info": {
   "codemirror_mode": {
    "name": "ipython",
    "version": 3
   },
   "file_extension": ".py",
   "mimetype": "text/x-python",
   "name": "python",
   "nbconvert_exporter": "python",
   "pygments_lexer": "ipython3",
   "version": "3.7.2"
  }
 },
 "nbformat": 4,
 "nbformat_minor": 2
}
